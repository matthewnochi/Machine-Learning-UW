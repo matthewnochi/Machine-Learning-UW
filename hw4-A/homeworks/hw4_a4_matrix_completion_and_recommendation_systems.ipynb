{
  "cells": [
    {
      "cell_type": "markdown",
      "source": [
        "# Homework 4: Matrix Completion and Recommendation System\n",
        "🎥 🎞 🎬\n"
      ],
      "metadata": {
        "id": "ofxrSTrclA0u"
      }
    },
    {
      "cell_type": "markdown",
      "source": [
        "## Information before starting"
      ],
      "metadata": {
        "id": "lUY6kYAGbGLV"
      }
    },
    {
      "cell_type": "markdown",
      "source": [
        "In this problem, we will be building a personalized movie recommendation system! To make these recommendations, we'll build on what we've learned in lecture about SVD and what we've practiced so far with Python and Python packages such as NumPy and PyTorch."
      ],
      "metadata": {
        "id": "Rkaej3GobH_i"
      }
    },
    {
      "cell_type": "markdown",
      "source": [
        "### Copying this Colab Notebook to your Google Drive"
      ],
      "metadata": {
        "id": "apBGZ6AZdws6"
      }
    },
    {
      "cell_type": "markdown",
      "source": [
        "Since the course staff is the author of this notebook, you cannot make any lasting changes to it. You should make a copy of it to your Google Drive by clicking **File -> Save a Copy in Drive**."
      ],
      "metadata": {
        "id": "guPzWFRsd4pl"
      }
    },
    {
      "cell_type": "markdown",
      "source": [
        "### Problem Introduction"
      ],
      "metadata": {
        "id": "HMbOS3Qvd6em"
      }
    },
    {
      "cell_type": "markdown",
      "source": [
        "We will use the 100K MovieLens dataset available at https://grouplens.org/datasets/movielens/100k/ to estimate unknown user ratings given their previous ratings. Run the code block below to download the dataset."
      ],
      "metadata": {
        "id": "Ev6yG36Od9iI"
      }
    },
    {
      "cell_type": "code",
      "source": [
        "# @title loading dataset\n",
        "!rm -rf ml-100k*\n",
        "!wget https://files.grouplens.org/datasets/movielens/ml-100k.zip\n",
        "!unzip ml-100k.zip\n",
        "!mv ml-100k/u.data ."
      ],
      "metadata": {
        "id": "IDLI0OQcuBvK",
        "colab": {
          "base_uri": "https://localhost:8080/"
        },
        "outputId": "e685d2d1-a399-4376-c902-b32799d84e28"
      },
      "execution_count": 50,
      "outputs": [
        {
          "output_type": "stream",
          "name": "stdout",
          "text": [
            "--2025-03-14 22:38:50--  https://files.grouplens.org/datasets/movielens/ml-100k.zip\n",
            "Resolving files.grouplens.org (files.grouplens.org)... 128.101.65.152\n",
            "Connecting to files.grouplens.org (files.grouplens.org)|128.101.65.152|:443... connected.\n",
            "HTTP request sent, awaiting response... 200 OK\n",
            "Length: 4924029 (4.7M) [application/zip]\n",
            "Saving to: ‘ml-100k.zip’\n",
            "\n",
            "ml-100k.zip         100%[===================>]   4.70M  9.11MB/s    in 0.5s    \n",
            "\n",
            "2025-03-14 22:38:50 (9.11 MB/s) - ‘ml-100k.zip’ saved [4924029/4924029]\n",
            "\n",
            "Archive:  ml-100k.zip\n",
            "   creating: ml-100k/\n",
            "  inflating: ml-100k/allbut.pl       \n",
            "  inflating: ml-100k/mku.sh          \n",
            "  inflating: ml-100k/README          \n",
            "  inflating: ml-100k/u.data          \n",
            "  inflating: ml-100k/u.genre         \n",
            "  inflating: ml-100k/u.info          \n",
            "  inflating: ml-100k/u.item          \n",
            "  inflating: ml-100k/u.occupation    \n",
            "  inflating: ml-100k/u.user          \n",
            "  inflating: ml-100k/u1.base         \n",
            "  inflating: ml-100k/u1.test         \n",
            "  inflating: ml-100k/u2.base         \n",
            "  inflating: ml-100k/u2.test         \n",
            "  inflating: ml-100k/u3.base         \n",
            "  inflating: ml-100k/u3.test         \n",
            "  inflating: ml-100k/u4.base         \n",
            "  inflating: ml-100k/u4.test         \n",
            "  inflating: ml-100k/u5.base         \n",
            "  inflating: ml-100k/u5.test         \n",
            "  inflating: ml-100k/ua.base         \n",
            "  inflating: ml-100k/ua.test         \n",
            "  inflating: ml-100k/ub.base         \n",
            "  inflating: ml-100k/ub.test         \n"
          ]
        }
      ]
    },
    {
      "cell_type": "markdown",
      "source": [
        "### Compute\n",
        "\n"
      ],
      "metadata": {
        "id": "NokDCIG2f0aQ"
      }
    },
    {
      "cell_type": "markdown",
      "source": [
        "This problem should not require using GPU. Since Google Colab will limit your GPU usage, we recommend saving your GPU quota for HW4 A3 and making sure that your runtime is set to CPU by going to **Runtime -> Change runtime type -> Select CPU under \"Hardware accelerator\"**."
      ],
      "metadata": {
        "id": "u6ZveE3Kn9rs"
      }
    },
    {
      "cell_type": "markdown",
      "source": [
        "### Submitting your assignment"
      ],
      "metadata": {
        "id": "XM8-QzFzoPvH"
      }
    },
    {
      "cell_type": "markdown",
      "source": [
        "Once you are done with the problem, make sure to put all of your necessary figures into your PDF submission. Then, download this notebook as a Python file (`.py`) by going to **File -> Download -> Download `.py`**. Rename this file as `hw4-a4.py` and upload to the Gradescope submission for HW4 code."
      ],
      "metadata": {
        "id": "reWpRva3oRQj"
      }
    },
    {
      "cell_type": "markdown",
      "source": [
        "## Code: Setup"
      ],
      "metadata": {
        "id": "X6e6hexPocVV"
      }
    },
    {
      "cell_type": "markdown",
      "source": [
        "Let's start by importing the packages that we'll need to complete this problem."
      ],
      "metadata": {
        "id": "o0VR9GuXojjK"
      }
    },
    {
      "cell_type": "code",
      "execution_count": 51,
      "metadata": {
        "id": "aO1zQE45kza0"
      },
      "outputs": [],
      "source": [
        "import csv\n",
        "import numpy as np\n",
        "from scipy.sparse.linalg import svds\n",
        "import matplotlib.pyplot as plt\n",
        "import torch"
      ]
    },
    {
      "cell_type": "markdown",
      "source": [
        "Now, let's load the 100K MovieLens data. If you have downloaded the `u.data` file and uploaded to the \"Files\" tab, the following code block will construct training and test sets for you. There are $m = 1682$ movies and $n = 943$ users in the dataset, and each user has rated at least 20 movies. The total dataset has 100,000 total ratings from all users, and our goal will be to estimate the unknown ratings that each user would assign to each movie. These ratings can then be used to recommend the \"best\" movies for each user!"
      ],
      "metadata": {
        "id": "9ZNgGlPOnVZp"
      }
    },
    {
      "cell_type": "code",
      "source": [
        "data = []\n",
        "with open('u.data') as csvfile:\n",
        "    spamreader = csv.reader(csvfile, delimiter='\\t')\n",
        "    for row in spamreader:\n",
        "        data.append([int(row[0])-1, int(row[1])-1, int(row[2])])\n",
        "data = np.array(data)\n",
        "\n",
        "num_observations = len(data)  # num_observations = 100,000\n",
        "num_users = max(data[:,0])+1  # num_users = 943, indexed 0,...,942\n",
        "num_items = max(data[:,1])+1  # num_items = 1682 indexed 0,...,1681\n",
        "\n",
        "np.random.seed(1)\n",
        "num_train = int(0.8*num_observations)\n",
        "perm = np.random.permutation(data.shape[0])\n",
        "train = data[perm[0:num_train],:]\n",
        "test = data[perm[num_train::],:]\n",
        "\n",
        "print(f\"Successfully loaded 100K MovieLens dataset with\",\n",
        "      f\"{len(train)} training samples and {len(test)} test samples\")"
      ],
      "metadata": {
        "id": "pv_V_YC7nU6a",
        "colab": {
          "base_uri": "https://localhost:8080/"
        },
        "outputId": "b5235125-1e8b-4ee2-8e0b-8464db6a346b"
      },
      "execution_count": 52,
      "outputs": [
        {
          "output_type": "stream",
          "name": "stdout",
          "text": [
            "Successfully loaded 100K MovieLens dataset with 80000 training samples and 20000 test samples\n"
          ]
        }
      ]
    },
    {
      "cell_type": "markdown",
      "source": [
        "For this problem, we will consider a matrix $R \\in \\mathbb{R}^{m \\times n}$ where the entry $R_{i,j} \\in \\{1,...,5\\}$ represents the $j$th user's rating on movie $i$. A higher value represents that the user is more staisfied with the movie."
      ],
      "metadata": {
        "id": "-O4_6oFTpUME"
      }
    },
    {
      "cell_type": "markdown",
      "source": [
        "## Code: Assignment"
      ],
      "metadata": {
        "id": "_EDOGcy5qerB"
      }
    },
    {
      "cell_type": "markdown",
      "source": [
        "The rest is yours to code! We provide some scaffolding for your implementation, but feel free to modify it and implement however you would like to. You may use fundamental operators from `NumPy` and `PyTorch` in this problem, such as `numpy.linalg.lstsq, SVD, autograd`, etc., but you many not use any precooked algorithm from a package like `scikit-learn`."
      ],
      "metadata": {
        "id": "Nzk2DH7-rfd_"
      }
    },
    {
      "cell_type": "markdown",
      "source": [
        "### Part (a)"
      ],
      "metadata": {
        "id": "2mkeYWwdniAS"
      }
    },
    {
      "cell_type": "markdown",
      "source": [
        "Our first estimator pools all users together and, for each movie, outputs as its prediction the average user rating of that movie in ``train``. That is, if $\\mu \\in \\mathbb{R}^m$ is a vector where $\\mu_i$ is the average rating of the users that rated the $i$-th movie. Write this estimator $\\widehat{R}$ as a rank-one matrix.\n",
        "\n",
        "Compute the estimate $\\widehat{R}$. What is $\\mathcal{E}_{\\rm test} (\\widehat{R})$ for this estimate?"
      ],
      "metadata": {
        "id": "BrrRCfbHqmxM"
      }
    },
    {
      "cell_type": "code",
      "execution_count": 53,
      "metadata": {
        "id": "vy3n5ljTkza3",
        "colab": {
          "base_uri": "https://localhost:8080/"
        },
        "outputId": "5c37fec0-b8e9-47fa-cdeb-dc4822f6e326"
      },
      "outputs": [
        {
          "output_type": "stream",
          "name": "stdout",
          "text": [
            "Test Error: 1.063564200567445\n"
          ]
        }
      ],
      "source": [
        "# Your code goes here. You should:\n",
        "\n",
        "# 1. Compute estimate and\n",
        "ui = np.zeros(num_items)\n",
        "for i in range(num_items):\n",
        "  rating = train[train[:, 1] == i][:, 2]\n",
        "  if rating.shape[0] > 0:\n",
        "    ui[i] = np.mean(rating)\n",
        "\n",
        "Rhat = np.zeros(num_users)\n",
        "for i in range(num_users):\n",
        "  rating = train[train[:, 0] == i][:, 2]\n",
        "  if rating.shape[0] > 0:\n",
        "    Rhat[i] = np.mean(rating)\n",
        "\n",
        "# 2. Evaluate test error\n",
        "error = 0\n",
        "for k in range(test.shape[0]):\n",
        "  movie = test[k, 1]\n",
        "  actual = test[k, 2]\n",
        "  error += (ui[movie] - actual) ** 2\n",
        "\n",
        "test_error = error / test.shape[0]\n",
        "\n",
        "print(f\"Test Error: {test_error}\")"
      ]
    },
    {
      "cell_type": "markdown",
      "source": [
        "### Part (b)\n",
        "Allocate a matrix $\\widetilde{R}_{i, j} \\in \\mathbb{R}^{m \\times n}$ and set its entries equal to the known values in the training set, and $0$ otherwise.\n",
        "\n",
        "Let $\\widehat{R}^{(d)}$ be the best rank-$d$ approximation (in terms of squared error) approximation to $\\widetilde{R}$. This is equivalent to computing the singular value decomposition (SVD) and using the top $d$ singular values. This learns a lower-dimensional vector representation for users and movies, assuming that each user would give a rating of $0$ to any movie they have not reviewed.\n",
        "\n",
        "- For each $d = 1, 2, 5, 10, 20, 50$, compute the estimator $\\widehat{R}^{(d)}$. We recommend using an efficient solver, such as ``scipy.sparse.linalg.svds``.\n",
        "- Plot the average squared error of predictions on the training set and test set on a single plot, as a function of $d$."
      ],
      "metadata": {
        "id": "y7BoyoWHpl2g"
      }
    },
    {
      "cell_type": "code",
      "execution_count": 54,
      "metadata": {
        "id": "W6t87ACNkza5"
      },
      "outputs": [],
      "source": [
        "# Your code goes here\n",
        "# Create the matrix R twiddle (\\widetilde{R}).\n",
        "r_twiddle = np.zeros((num_items, num_users))\n",
        "for line in train:\n",
        "  user, movie, rating = line\n",
        "  r_twiddle[movie, user] = rating\n"
      ]
    },
    {
      "cell_type": "code",
      "execution_count": 55,
      "metadata": {
        "id": "HWf-Umhdkza5"
      },
      "outputs": [],
      "source": [
        "# Your code goes here\n",
        "def construct_estimator(d, r_twiddle):\n",
        "  U, S, Vt = svds(r_twiddle, k=d)\n",
        "  return np.dot(U, np.dot(np.diag(S), Vt))\n",
        "\n",
        "def get_error(d, r_twiddle, dataset):\n",
        "  Rhat_d = construct_estimator(d, r_twiddle)\n",
        "  error = 0\n",
        "\n",
        "  for i in range(dataset.shape[0]):\n",
        "    user, movie, rating = dataset[i]\n",
        "    error += (Rhat_d[movie, user] - rating) ** 2\n",
        "  return error / dataset.shape[0]"
      ]
    },
    {
      "cell_type": "code",
      "execution_count": 56,
      "metadata": {
        "id": "Y6uMbMhGkza6"
      },
      "outputs": [],
      "source": [
        "# Your code goes here\n",
        "# Evaluate train and test error for: d = 1, 2, 5, 10, 20, 50.\n",
        "dVal = [1, 2, 5, 10, 20, 50]\n",
        "train_error = []\n",
        "test_error = []\n",
        "\n",
        "for d in dVal:\n",
        "    train_error.append(get_error(d, r_twiddle, train))\n",
        "    test_error.append(get_error(d, r_twiddle, test))\n"
      ]
    },
    {
      "cell_type": "code",
      "source": [
        "# Your code goes here\n",
        "# Plot both train and test error as a function of d on the same plot.\n",
        "plt.plot(dVal, train_error, label='Training Error')\n",
        "plt.plot(dVal, test_error, label='Test Error')\n",
        "plt.xlabel('Dimension (d)')\n",
        "plt.ylabel('Mean Squared Error')\n",
        "plt.legend()\n",
        "plt.grid(True)\n",
        "plt.title('Error vs Dimension')\n",
        "plt.show()"
      ],
      "metadata": {
        "id": "Np_g0EbmsoNJ",
        "colab": {
          "base_uri": "https://localhost:8080/",
          "height": 472
        },
        "outputId": "5a1f6e10-f88c-4218-a92c-564c884578ae"
      },
      "execution_count": 102,
      "outputs": [
        {
          "output_type": "display_data",
          "data": {
            "text/plain": [
              "<Figure size 640x480 with 1 Axes>"
            ],
            "image/png": "[encoded data removed]"
          },
          "metadata": {}
        }
      ]
    },
    {
      "cell_type": "markdown",
      "source": [
        "### Part (c)\n",
        "Replacing all missing values by a constant may impose strong and potentially incorrect assumptions on the unobserved entries of $R$. A more reasonable choice is to minimize the mean squared error (MSE) only on rated movies. Define a loss function:\n",
        "$$\n",
        "\\mathcal{L} \\left( \\{u_i\\}_{i=1}^m, \\{v_j\\}_{j=1}^n \\right) :=\n",
        "\\sum_{(i, j, R_{i, j}) \\in {\\rm train}} (\\langle u_i,v_j\\rangle - R_{i,j})^2 +\n",
        "\\lambda \\sum_{i=1}^m \\|u_i\\|_2^2 +\n",
        "\\lambda \\sum_{j=1}^n \\|v_j\\|_2^2\n",
        "$$\n",
        "where $\\lambda > 0$ is the regularization coefficient. We will implement algorithms to learn vector representations by minimizing the above loss. You may need to tune $\\lambda$ and $\\sigma$ to optimize the loss.\n",
        "\n",
        "Implement alternating minimization (as defined in the homework spec) and plot the MSE of ``train`` and ``test`` for $d \\in \\{1, 2, 5, 10, 20, 50\\}$.\n",
        "\n",
        "*Note: we define the loss function here as the sum of squared errors; be careful to calculate and plot the mean squared error for your results*"
      ],
      "metadata": {
        "id": "W8x30SANrqN4"
      }
    },
    {
      "cell_type": "code",
      "execution_count": 125,
      "metadata": {
        "id": "m1Jt9wLzkza6"
      },
      "outputs": [],
      "source": [
        "# Your code goes here. You are welcome to change the parameter lists and/or write new functions to complete this part of the assignment.\n",
        "# In particular, you will likely also want to use R twiddle, and you may want to create global data structures to store observed entries.\n",
        "# These global data structures might look like mappings of users to the movies they've reviewed, and of movies to the users who have reviewed that movie.\n",
        "\n",
        "def closed_form_u(V, U, l):\n",
        "  num_users = V.shape[1]\n",
        "  for user_idx in range(num_users):\n",
        "    rated_items = np.where(r_twiddle[:, user_idx] > 0)[0]\n",
        "    R_user = r_twiddle[rated_items, user_idx]\n",
        "    V_user = V[rated_items, :]\n",
        "\n",
        "    if rated_items.shape[0] > 0:\n",
        "      VtV = np.dot(V_user.T, V_user) + l * np.eye(V_user.shape[1])\n",
        "      VtR = np.dot(V_user.T, R_user)\n",
        "      U[user_idx, :] = np.linalg.solve(VtV, VtR)\n",
        "  return U\n",
        "\n",
        "\n",
        "def closed_form_v(V, U, l):\n",
        "  num_items = U.shape[0]\n",
        "  for item_idx in range(num_items):\n",
        "    rated_users = np.where(r_twiddle[item_idx, :] > 0)[0]\n",
        "    R_item = r_twiddle[item_idx, rated_users]\n",
        "    U_item = U[rated_users, :]\n",
        "\n",
        "    if rated_users.shape[0] > 0:\n",
        "      UtU = np.dot(U_item.T, U_item) + l * np.eye(U_item.shape[1])\n",
        "      UtR = np.dot(U_item.T, R_item)\n",
        "      V[item_idx, :] = np.linalg.solve(UtU, UtR)\n",
        "  return V\n",
        "\n",
        "\n",
        "def construct_alternating_estimator(\n",
        "    d, r_twiddle, l=10.0, delta=1e-1, sigma=0.1, U=None, V=None\n",
        "):\n",
        "  if U is None:\n",
        "    U = sigma * np.random.randn(r_twiddle.shape[1], d)\n",
        "  if V is None:\n",
        "    V = sigma * np.random.randn(r_twiddle.shape[0], d)\n",
        "\n",
        "  prev_U = np.copy(U)\n",
        "  prev_V = np.copy(V)\n",
        "  not_converged = True\n",
        "  iteration = 0\n",
        "\n",
        "  errors_train = []\n",
        "  errors_test = []\n",
        "\n",
        "  while not_converged:\n",
        "    iteration += 1\n",
        "    print(f\"Iteration {iteration}...\")\n",
        "    U = closed_form_u(V, U, l)\n",
        "    V = closed_form_v(V, U, l)\n",
        "\n",
        "    max_diff = max(np.max(np.abs(U - prev_U)), np.max(np.abs(V - prev_V)))\n",
        "    if max_diff < delta:\n",
        "      not_converged = False\n",
        "    else:\n",
        "      prev_U = np.copy(U)\n",
        "      prev_V = np.copy(V)\n",
        "\n",
        "  R_hat = lambda user_index, movie_index: np.inner(U[user_index, :], V[movie_index, :])\n",
        "  return find_error(train, R_hat), find_error(test, R_hat)\n",
        "\n",
        "# Your code goes here\n",
        "# Any additional functions that you may write to help implement alternating minimization.\n",
        "def find_error(data, R_hat):\n",
        "  error = []\n",
        "  for (user_idx, movie_idx, rating) in data:\n",
        "    predicted_rating = R_hat(user_idx, movie_idx)\n",
        "    error.append((predicted_rating - rating) ** 2)\n",
        "  return np.mean(error)"
      ]
    },
    {
      "cell_type": "code",
      "execution_count": 126,
      "metadata": {
        "id": "i4SLeTASkza8",
        "colab": {
          "base_uri": "https://localhost:8080/"
        },
        "outputId": "94acbd7f-0c4d-4a6d-9387-2c770ef052c4"
      },
      "outputs": [
        {
          "output_type": "stream",
          "name": "stdout",
          "text": [
            "Using d: 1\n",
            "Iteration 1...\n",
            "Iteration 2...\n",
            "Iteration 3...\n",
            "Iteration 4...\n",
            "Iteration 5...\n",
            "Iteration 6...\n",
            "Using d: 2\n",
            "Iteration 1...\n",
            "Iteration 2...\n",
            "Iteration 3...\n",
            "Iteration 4...\n",
            "Iteration 5...\n",
            "Iteration 6...\n",
            "Iteration 7...\n",
            "Iteration 8...\n",
            "Iteration 9...\n",
            "Using d: 5\n",
            "Iteration 1...\n",
            "Iteration 2...\n",
            "Iteration 3...\n",
            "Iteration 4...\n",
            "Iteration 5...\n",
            "Iteration 6...\n",
            "Iteration 7...\n",
            "Iteration 8...\n",
            "Iteration 9...\n",
            "Iteration 10...\n",
            "Iteration 11...\n",
            "Iteration 12...\n",
            "Iteration 13...\n",
            "Iteration 14...\n",
            "Iteration 15...\n",
            "Using d: 10\n",
            "Iteration 1...\n",
            "Iteration 2...\n",
            "Iteration 3...\n",
            "Iteration 4...\n",
            "Iteration 5...\n",
            "Iteration 6...\n",
            "Iteration 7...\n",
            "Iteration 8...\n",
            "Iteration 9...\n",
            "Iteration 10...\n",
            "Iteration 11...\n",
            "Iteration 12...\n",
            "Using d: 20\n",
            "Iteration 1...\n",
            "Iteration 2...\n",
            "Iteration 3...\n",
            "Iteration 4...\n",
            "Iteration 5...\n",
            "Iteration 6...\n",
            "Iteration 7...\n",
            "Iteration 8...\n",
            "Iteration 9...\n",
            "Iteration 10...\n",
            "Iteration 11...\n",
            "Iteration 12...\n",
            "Iteration 13...\n",
            "Iteration 14...\n",
            "Iteration 15...\n",
            "Iteration 16...\n",
            "Using d: 50\n",
            "Iteration 1...\n",
            "Iteration 2...\n",
            "Iteration 3...\n",
            "Iteration 4...\n",
            "Iteration 5...\n",
            "Iteration 6...\n",
            "Iteration 7...\n",
            "Iteration 8...\n",
            "Iteration 9...\n",
            "Iteration 10...\n",
            "Iteration 11...\n",
            "Iteration 12...\n"
          ]
        }
      ],
      "source": [
        "# Your code goes here\n",
        "# Evaluate train and test error for: d = 1, 2, 5, 10, 20, 50.\n",
        "\n",
        "index_map_i = {i: np.where(train[:, 1] == i)[0] for i in range(num_items)}\n",
        "index_map_j = {j: np.where(train[:, 0] == j)[0] for j in range(num_users)}\n",
        "\n",
        "dVals = [1, 2, 5, 10, 20, 50]\n",
        "train_errors = []\n",
        "test_errors = []\n",
        "\n",
        "for d in dVals:\n",
        "  print(f\"Using d: {d}\")\n",
        "  errors_train, errors_test = construct_alternating_estimator(d, r_twiddle)\n",
        "  train_errors.append(errors_train)\n",
        "  test_errors.append(errors_test)"
      ]
    },
    {
      "cell_type": "code",
      "source": [
        "# Your code goes here\n",
        "# Plot both train and test error as a function of d on the same plot.\n",
        "\n",
        "plt.plot(dVal, train_errors, label='Training Error')\n",
        "plt.plot(dVal, test_errors, label='Test Error')\n",
        "plt.xlabel('Dimension (d)')\n",
        "plt.ylabel('Mean Squared Error')\n",
        "plt.legend()\n",
        "plt.grid(True)\n",
        "plt.title('Error vs Dimension')\n",
        "plt.show()"
      ],
      "metadata": {
        "id": "nngg85fuAhn1",
        "colab": {
          "base_uri": "https://localhost:8080/",
          "height": 472
        },
        "outputId": "b701dade-cbae-4aba-f333-cad48ea33a73"
      },
      "execution_count": 127,
      "outputs": [
        {
          "output_type": "display_data",
          "data": {
            "text/plain": [
              "<Figure size 640x480 with 1 Axes>"
            ],
            "image/png": "[encoded data removed]"
          },
          "metadata": {}
        }
      ]
    }
  ],
  "metadata": {
    "kernelspec": {
      "display_name": "Python 3",
      "language": "python",
      "name": "python3"
    },
    "language_info": {
      "codemirror_mode": {
        "name": "ipython",
        "version": 3
      },
      "file_extension": ".py",
      "mimetype": "text/x-python",
      "name": "python",
      "nbconvert_exporter": "python",
      "pygments_lexer": "ipython3",
      "version": "3.6.7"
    },
    "colab": {
      "provenance": []
    }
  },
  "nbformat": 4,
  "nbformat_minor": 0
}